{
 "cells": [
  {
   "cell_type": "markdown",
   "metadata": {},
   "source": [
    "# Introduction\n",
    "Say you wanted to plot the data you spent hours collecting and evaluating. What should you do? You should use matplotlib! This module creates plots of data and has a variety of options."
   ]
  },
  {
   "cell_type": "markdown",
   "metadata": {},
   "source": [
    "# Creating a plot"
   ]
  },
  {
   "cell_type": "markdown",
   "metadata": {},
   "source": [
    "First, we need to import matplotlib in order to use it:"
   ]
  },
  {
   "cell_type": "code",
   "execution_count": 3,
   "metadata": {},
   "outputs": [],
   "source": [
    "import matplotlib.pyplot as plt"
   ]
  },
  {
   "cell_type": "markdown",
   "metadata": {},
   "source": [
    "Now, we can use the functions in matplotlib! To create a plot, use the method plt.plot(x,y). x and y represents the axis which they are on. In addition, x and y need to be lists. Let's make a plot of the amount of candy I have for ten seconds. "
   ]
  },
  {
   "cell_type": "code",
   "execution_count": 4,
   "metadata": {},
   "outputs": [
    {
     "data": {
      "text/plain": [
       "[<matplotlib.lines.Line2D at 0x18c9184d780>]"
      ]
     },
     "execution_count": 4,
     "metadata": {},
     "output_type": "execute_result"
    }
   ],
   "source": [
    "time = [0,2,4,6,8,10]\n",
    "candy = [10,50,30,20,5,80]\n",
    "plt.plot(time,candy)"
   ]
  },
  {
   "cell_type": "markdown",
   "metadata": {},
   "source": [
    "To show the plot, we use the method plt.show()"
   ]
  },
  {
   "cell_type": "code",
   "execution_count": 5,
   "metadata": {},
   "outputs": [
    {
     "data": {
      "image/png": "[encoded data removed]",
      "text/plain": [
       "<matplotlib.figure.Figure at 0x18c8f7bfc50>"
      ]
     },
     "metadata": {},
     "output_type": "display_data"
    }
   ],
   "source": [
    "plt.show()"
   ]
  },
  {
   "cell_type": "markdown",
   "metadata": {},
   "source": [
    "Wowee! Look at this amazing graph! However, it still looks a little simple."
   ]
  },
  {
   "cell_type": "markdown",
   "metadata": {},
   "source": [
    "# How to Make Scatterplots"
   ]
  },
  {
   "cell_type": "markdown",
   "metadata": {},
   "source": [
    "Say you want to have a scatterplot since you're data doesn't involve time. To do this, simply type plt.scatter(x,y) instead of plt.plot(x,y). As an example, we'll use a set of data that contains # of food and # of people"
   ]
  },
  {
   "cell_type": "code",
   "execution_count": 9,
   "metadata": {},
   "outputs": [
    {
     "data": {
      "image/png": "[encoded data removed]",
      "text/plain": [
       "<matplotlib.figure.Figure at 0x18c91961c88>"
      ]
     },
     "metadata": {},
     "output_type": "display_data"
    }
   ],
   "source": [
    "people = [3,4,1,2,4,5,3,1,34,3,5,3,2,41,32,4,5,2,4,65,6,3,2,4,2,34,12,5,76,8]\n",
    "food = [2,5,35,4,24,32,4,65,75,76,4,3,86,78,97,5,4,35,46,5,23,45,64,65,54,23,1,35,6,45]\n",
    "plt.scatter(food,people)\n",
    "plt.show()"
   ]
  },
  {
   "cell_type": "markdown",
   "metadata": {},
   "source": [
    "Wow, now that's a scatterplot!"
   ]
  },
  {
   "cell_type": "markdown",
   "metadata": {},
   "source": [
    "# How to Make Histograms"
   ]
  },
  {
   "cell_type": "markdown",
   "metadata": {},
   "source": [
    "Say you just wanna make a histogram. Then just use the method plt.hist(x) with x as the list you wanna use."
   ]
  },
  {
   "cell_type": "code",
   "execution_count": 10,
   "metadata": {},
   "outputs": [
    {
     "data": {
      "image/png": "[encoded data removed]",
      "text/plain": [
       "<matplotlib.figure.Figure at 0x18c9192fe10>"
      ]
     },
     "metadata": {},
     "output_type": "display_data"
    }
   ],
   "source": [
    "plt.hist(food)\n",
    "plt.show()"
   ]
  },
  {
   "cell_type": "markdown",
   "metadata": {},
   "source": [
    "To change the number of bins in the histogram, you can put the argument \"bins = 5\" into the method: "
   ]
  },
  {
   "cell_type": "code",
   "execution_count": 11,
   "metadata": {},
   "outputs": [
    {
     "data": {
      "image/png": "[encoded data removed]",
      "text/plain": [
       "<matplotlib.figure.Figure at 0x18c91afb518>"
      ]
     },
     "metadata": {},
     "output_type": "display_data"
    }
   ],
   "source": [
    "plt.hist(food, bins = 20)\n",
    "plt.show()"
   ]
  },
  {
   "cell_type": "markdown",
   "metadata": {},
   "source": [
    "# Clearing the Current Plot"
   ]
  },
  {
   "cell_type": "markdown",
   "metadata": {},
   "source": [
    "Say you don't want to use the plot you just created. Use the method"
   ]
  },
  {
   "cell_type": "code",
   "execution_count": null,
   "metadata": {},
   "outputs": [],
   "source": [
    "plt.clf()"
   ]
  },
  {
   "cell_type": "markdown",
   "metadata": {},
   "source": [
    "To clear the plot again so you can start afresh"
   ]
  },
  {
   "cell_type": "markdown",
   "metadata": {},
   "source": [
    "# Customization"
   ]
  },
  {
   "cell_type": "markdown",
   "metadata": {},
   "source": [
    "From the three plots, we can see that they are really plain. To edit them, we use functions to change them. Remember to put \"plt.\" before the methods!\n",
    "\n",
    "| Method Name | Parameters | Function |\n",
    "| ----------- | ---------- | -------- |\n",
    "| xlabel(x)   | string     | Labels the x-axis with x |\n",
    "| ylabel(x)   | string     | Labels the y-axis with x |\n",
    "| title(x)    | string     | Titles the plot |\n",
    "| xticks(x, y)   | int list, string list   | Replaces the x-axis ticks with the values from x and labels them with the values from y|\n",
    "| yticks(x, y)   | int list, string list   | Replaces the y-axis ticks with the values from x and labels them with the values from y|\n",
    "| grid(x)     | boolean    | If true, draws gridlines in tthe plot |\n",
    "| text(x,t,s) | int, int, string | Puts string in the position (x,y) in the plot |\n",
    "\n",
    "## Changing Size of Scatterplots\n",
    "Say the dots in your scatterplots are too small, and you want them to be bigger. To do this, we need to create a list of values that dictate the size of each dot. Then, in the argument of the funtion that creates the plot, we write that \"s = list\":"
   ]
  },
  {
   "cell_type": "code",
   "execution_count": 20,
   "metadata": {},
   "outputs": [
    {
     "data": {
      "image/png": "[encoded data removed]",
      "text/plain": [
       "<matplotlib.figure.Figure at 0x18c91c18080>"
      ]
     },
     "metadata": {},
     "output_type": "display_data"
    }
   ],
   "source": [
    "import random\n",
    "size = []\n",
    "for i in range(30):\n",
    "    size = size + [random.randint(0,100)]\n",
    "plt.scatter(food, people, s = size)\n",
    "plt.show()"
   ]
  },
  {
   "cell_type": "markdown",
   "metadata": {},
   "source": [
    "## Changing the Colors In a Scatterplot\n",
    "To change the color of the dots in a scatter, create "
   ]
  }
 ],
 "metadata": {
  "kernelspec": {
   "display_name": "Python 3",
   "language": "python",
   "name": "python3"
  },
  "language_info": {
   "codemirror_mode": {
    "name": "ipython",
    "version": 3
   },
   "file_extension": ".py",
   "mimetype": "text/x-python",
   "name": "python",
   "nbconvert_exporter": "python",
   "pygments_lexer": "ipython3",
   "version": "3.6.3"
  }
 },
 "nbformat": 4,
 "nbformat_minor": 2
}
