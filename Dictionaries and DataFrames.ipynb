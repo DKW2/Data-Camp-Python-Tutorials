{
 "cells": [
  {
   "cell_type": "markdown",
   "metadata": {},
   "source": [
    "# Introduction\n",
    "This is a guide for dictionaries and Data Frames, which are used to handle data and organize it into tables. Basically, they're more sophisticated arrays and lists.\n",
    "\n",
    "# Creating Dictionaries\n",
    "First is dictionaries, these data types create a directory so that calling an index by its name calls its value"
   ]
  },
  {
   "cell_type": "code",
   "execution_count": 1,
   "metadata": {},
   "outputs": [
    {
     "name": "stdout",
     "output_type": "stream",
     "text": [
      "{'a': 'apple', 'b': 'banana'}\n",
      "apple\n"
     ]
    }
   ],
   "source": [
    "dict = {'a':'apple','b':'banana'}\n",
    "print(dict)        \n",
    "print(dict['a'])"
   ]
  },
  {
   "cell_type": "markdown",
   "metadata": {},
   "source": [
    "# Finding Elements in Dictionaries\n",
    "Even lists themselves can be the value of the index value!"
   ]
  },
  {
   "cell_type": "code",
   "execution_count": 32,
   "metadata": {},
   "outputs": [
    {
     "name": "stdout",
     "output_type": "stream",
     "text": [
      "['apple', 'banana', 'coconut']\n",
      "dr. pepper\n"
     ]
    }
   ],
   "source": [
    "dict = {'fruit':['apple','banana','coconut'],'vegetable':['spinach','celery','broccolli'],'soda':['coke','pepsi','dr. pepper']}\n",
    "print(dict['fruit'])\n",
    "print(dict['soda'][2])"
   ]
  },
  {
   "cell_type": "markdown",
   "metadata": {},
   "source": [
    "# Creating DataFrames\n",
    "Now it's time for DataFrames! These data types requires you to import pandas like so:"
   ]
  },
  {
   "cell_type": "code",
   "execution_count": 2,
   "metadata": {},
   "outputs": [],
   "source": [
    "import pandas as pd"
   ]
  },
  {
   "cell_type": "markdown",
   "metadata": {},
   "source": [
    "Then, the argument for creating a DataFrame is a dictionary with lists"
   ]
  },
  {
   "cell_type": "code",
   "execution_count": 35,
   "metadata": {},
   "outputs": [
    {
     "name": "stdout",
     "output_type": "stream",
     "text": [
      "     fruit        soda  vegetable\n",
      "0    apple        coke    spinach\n",
      "1   banana       pepsi     celery\n",
      "2  coconut  dr. pepper  broccolli\n"
     ]
    }
   ],
   "source": [
    "food = pd.DataFrame(dict)\n",
    "print(food)"
   ]
  },
  {
   "cell_type": "markdown",
   "metadata": {},
   "source": [
    "To change the indexes to the left to a string/label, use the code:"
   ]
  },
  {
   "cell_type": "code",
   "execution_count": 30,
   "metadata": {},
   "outputs": [
    {
     "name": "stdout",
     "output_type": "stream",
     "text": [
      "                 drinks    fruit  vegetable\n",
      "First Food         coke    apple    spinach\n",
      "Second Food       pepsi   banana     celery\n",
      "Third Food   dr. pepper  coconut  broccolli\n"
     ]
    }
   ],
   "source": [
    "food.index = ['First Food', 'Second Food', 'Third Food']\n",
    "print(food)"
   ]
  },
  {
   "cell_type": "markdown",
   "metadata": {},
   "source": [
    "# Getting the Data\n",
    "To actually get the data, you usually read files called csv, which are \"comma-seperated values\". If you want to remove the 0,1,2,3 labels and start with the actual labels for rows, put index_col = 0 in the argument"
   ]
  },
  {
   "cell_type": "code",
   "execution_count": null,
   "metadata": {},
   "outputs": [],
   "source": [
    "food = pd.read_csv('food.csv') \n",
    "food = pd.read_csv('food.csv', index_col = 0) "
   ]
  },
  {
   "cell_type": "markdown",
   "metadata": {},
   "source": [
    "# Accessing Elements using Square Brackets\n",
    "There are many ways to access the elements, one is to use square brackets"
   ]
  },
  {
   "cell_type": "code",
   "execution_count": 13,
   "metadata": {},
   "outputs": [
    {
     "name": "stdout",
     "output_type": "stream",
     "text": [
      "First Food       apple\n",
      "Second Food     banana\n",
      "Third Food     coconut\n",
      "Name: fruit, dtype: object\n",
      "               fruit\n",
      "First Food     apple\n",
      "Second Food   banana\n",
      "Third Food   coconut\n"
     ]
    }
   ],
   "source": [
    "print(food['fruit'])\n",
    "print(food[['fruit']])"
   ]
  },
  {
   "cell_type": "markdown",
   "metadata": {},
   "source": [
    "As you can see, one square bracket creates a Series while the two square brackets create a DataFrame. Now, if we want two columns or more, we put in a comma inbetween column names"
   ]
  },
  {
   "cell_type": "code",
   "execution_count": 45,
   "metadata": {},
   "outputs": [
    {
     "name": "stdout",
     "output_type": "stream",
     "text": [
      "     fruit  vegetable\n",
      "0    apple    spinach\n",
      "1   banana     celery\n",
      "2  coconut  broccolli\n"
     ]
    }
   ],
   "source": [
    "print(food[['fruit','vegetable']])"
   ]
  },
  {
   "cell_type": "markdown",
   "metadata": {},
   "source": [
    "In order to find the rows instead of columns, use one square bracket and use a colon to select your range:"
   ]
  },
  {
   "cell_type": "code",
   "execution_count": 41,
   "metadata": {},
   "outputs": [
    {
     "name": "stdout",
     "output_type": "stream",
     "text": [
      "     fruit        soda  vegetable\n",
      "1   banana       pepsi     celery\n",
      "2  coconut  dr. pepper  broccolli\n"
     ]
    }
   ],
   "source": [
    "print(food[1:3])"
   ]
  },
  {
   "cell_type": "markdown",
   "metadata": {},
   "source": [
    "# Accessing Elements using iloc and loc\n",
    "Another the more efficient search method is using loc and iloc. loc takes in names of the variables for the rows and columns while iloc takes in the index number:"
   ]
  },
  {
   "cell_type": "code",
   "execution_count": 25,
   "metadata": {},
   "outputs": [
    {
     "name": "stdout",
     "output_type": "stream",
     "text": [
      "           drinks  fruit vegetable\n",
      "First Food   coke  apple   spinach\n",
      "\n",
      "           drinks  fruit vegetable\n",
      "First Food   coke  apple   spinach\n",
      "\n",
      "            vegetable    fruit\n",
      "First Food    spinach    apple\n",
      "Third Food  broccolli  coconut\n"
     ]
    }
   ],
   "source": [
    "print(food.loc[[\"First Food\"]])\n",
    "print()\n",
    "print(food.iloc[[0]])\n",
    "print()\n",
    "print(food.loc[[\"First Food\", \"Third Food\"], [\"vegetable\", \"fruit\"]])"
   ]
  },
  {
   "cell_type": "markdown",
   "metadata": {},
   "source": [
    "To look at all of the rows and only certain columns, put a colon for the row argument:"
   ]
  },
  {
   "cell_type": "code",
   "execution_count": 36,
   "metadata": {},
   "outputs": [
    {
     "name": "stdout",
     "output_type": "stream",
     "text": [
      "     fruit        soda\n",
      "0    apple        coke\n",
      "1   banana       pepsi\n",
      "2  coconut  dr. pepper\n"
     ]
    }
   ],
   "source": [
    "print(food.loc[:,[\"fruit\",\"soda\"]])"
   ]
  },
  {
   "cell_type": "markdown",
   "metadata": {},
   "source": [
    "# Filtering Data Frames"
   ]
  },
  {
   "cell_type": "markdown",
   "metadata": {},
   "source": [
    "Say you want to find values of rows that fullfill a certain requirement.\n",
    "For example,"
   ]
  },
  {
   "cell_type": "code",
   "execution_count": 5,
   "metadata": {},
   "outputs": [
    {
     "name": "stdout",
     "output_type": "stream",
     "text": [
      "       Flavor  Rating\n",
      "0       apple       9\n",
      "1  strawberry       7\n",
      "2      cherry      10\n"
     ]
    }
   ],
   "source": [
    "dict2 = {\"Flavor\":[\"apple\",\"strawberry\",\"cherry\"], \"Rating\":[9,7,10]}\n",
    "lolipops = pd.DataFrame(dict2)\n",
    "print(lolipops)"
   ]
  },
  {
   "cell_type": "markdown",
   "metadata": {},
   "source": [
    "Here, we created a new DataFrame for lolipops, which contains their flavors and their ratings from 1 to 10. If we want to see all of the rows that contain a rating above 8, we would first have to extract the column \"rating\":"
   ]
  },
  {
   "cell_type": "code",
   "execution_count": 8,
   "metadata": {},
   "outputs": [
    {
     "name": "stdout",
     "output_type": "stream",
     "text": [
      "0     9\n",
      "1     7\n",
      "2    10\n",
      "Name: Rating, dtype: int64\n"
     ]
    }
   ],
   "source": [
    "rating = lolipops[\"Rating\"]\n",
    "print(rating)"
   ]
  },
  {
   "cell_type": "markdown",
   "metadata": {},
   "source": [
    "It's alright if the data type is a series. Now, we check which ratings are above 8:"
   ]
  },
  {
   "cell_type": "code",
   "execution_count": 10,
   "metadata": {},
   "outputs": [
    {
     "name": "stdout",
     "output_type": "stream",
     "text": [
      "0     True\n",
      "1    False\n",
      "2     True\n",
      "Name: Rating, dtype: bool\n"
     ]
    }
   ],
   "source": [
    "above_8 = rating > 8\n",
    "print(above_8)"
   ]
  },
  {
   "cell_type": "markdown",
   "metadata": {},
   "source": [
    "Yay! Now we have a boolean series that denotes whether the row is above 8 or not. Now, we use this Series as an index for the DataFrame to get the rows that have ratings above 8:"
   ]
  },
  {
   "cell_type": "code",
   "execution_count": 11,
   "metadata": {},
   "outputs": [
    {
     "name": "stdout",
     "output_type": "stream",
     "text": [
      "   Flavor  Rating\n",
      "0   apple       9\n",
      "2  cherry      10\n"
     ]
    }
   ],
   "source": [
    "good_ratings = lolipops[above_8]\n",
    "print(good_ratings)"
   ]
  },
  {
   "cell_type": "markdown",
   "metadata": {},
   "source": [
    "As we can see, the DataFrame only prints out the rows that have a rating above 8. If we want to check if the rating is above 8 but below 10, we have to use logical operators, mainly \"and\". However, DataFrames and Series cannot use \"and\". Thus, you need to use a special function from numpy called logical_and(), logical_or(), or logical_not():"
   ]
  },
  {
   "cell_type": "code",
   "execution_count": 14,
   "metadata": {},
   "outputs": [
    {
     "name": "stdout",
     "output_type": "stream",
     "text": [
      "  Flavor  Rating\n",
      "0  apple       9\n"
     ]
    }
   ],
   "source": [
    "import numpy as np\n",
    "above_8 = np.logical_and(rating > 8, rating < 10)\n",
    "print(lolipops[above_8])"
   ]
  },
  {
   "cell_type": "markdown",
   "metadata": {},
   "source": [
    "Huzzah! Now we can check for specific rows in data"
   ]
  },
  {
   "cell_type": "markdown",
   "metadata": {},
   "source": [
    "# Summary\n",
    "So in short. using square brackets can only(?) find entire columns or entire rows. "
   ]
  },
  {
   "cell_type": "code",
   "execution_count": null,
   "metadata": {},
   "outputs": [],
   "source": [
    "food[number:number] #gives the rows while\n",
    "\n",
    "food[column_name,column_name] #gives the columns you want"
   ]
  },
  {
   "cell_type": "markdown",
   "metadata": {},
   "source": [
    "Thus, if you want to have the most flexibility with finding elements in the \n",
    "DataFrame, use iloc or loc. General idea is within the brackets, \n",
    "the first nested bracket is the rows while the second nested bracket \n",
    "is columns (putting in a colon for rows doesn't require brackets). "
   ]
  },
  {
   "cell_type": "code",
   "execution_count": null,
   "metadata": {},
   "outputs": [],
   "source": [
    "food.loc[[<row name>, <row name>], [<column name>, <column name]]\n",
    "food.loc[:, [<column name>, <column name>]]"
   ]
  },
  {
   "cell_type": "markdown",
   "metadata": {},
   "source": [
    "And that's basically Dictionaries and DataFrames.\n",
    "Remember to import pandas if you wanna use DataFrames"
   ]
  }
 ],
 "metadata": {
  "kernelspec": {
   "display_name": "Python 3",
   "language": "python",
   "name": "python3"
  },
  "language_info": {
   "codemirror_mode": {
    "name": "ipython",
    "version": 3
   },
   "file_extension": ".py",
   "mimetype": "text/x-python",
   "name": "python",
   "nbconvert_exporter": "python",
   "pygments_lexer": "ipython3",
   "version": "3.6.3"
  }
 },
 "nbformat": 4,
 "nbformat_minor": 2
}
